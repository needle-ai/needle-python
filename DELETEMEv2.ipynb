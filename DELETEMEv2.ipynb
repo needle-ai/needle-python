{
 "cells": [
  {
   "cell_type": "code",
   "execution_count": 8,
   "metadata": {},
   "outputs": [],
   "source": [
    "from needle.v2 import NeedleClient"
   ]
  },
  {
   "cell_type": "code",
   "execution_count": null,
   "metadata": {},
   "outputs": [],
   "source": [
    "### TEST attributes\n",
    "api_key = \"\"\n",
    "collection_name = \"\""
   ]
  },
  {
   "cell_type": "code",
   "execution_count": 10,
   "metadata": {},
   "outputs": [],
   "source": [
    "\n",
    "needle_manager = NeedleClient(api_key)"
   ]
  },
  {
   "cell_type": "code",
   "execution_count": 11,
   "metadata": {},
   "outputs": [],
   "source": [
    "# Set the right collection\n",
    "\n",
    "\n",
    "collection_id = needle_manager.collections.identify_collection(collection_name)\n",
    "needle_manager.collections.update_collection_id(collection_id)\n",
    "needle_manager.files.update_collection_id(collection_id)\n"
   ]
  },
  {
   "cell_type": "code",
   "execution_count": 12,
   "metadata": {},
   "outputs": [
    {
     "name": "stdout",
     "output_type": "stream",
     "text": [
      "staging_operation_companies.txt fle_01JM4N6N287WYGPDNQECJRSWK7 indexed\n",
      "staging_operation_api_tracking.txt fle_01JM4N6N296TWY6Z0022Y1GDXN indexed\n",
      "staging_operation_datasources.txt fle_01JM4N6N29FNG7SFY9AAMNAT5F indexed\n",
      "staging_flatfiles_countries.txt fle_01JM4N6N29J4VJQG3V88J6SJR3 indexed\n",
      "staging_hubspot_engagements.txt fle_01JM4N6N29K5N68KNRD8DHNSP0 indexed\n",
      "staging_operation_users.txt fle_01JM4N6N29VAYK5DP0GACJ25M1 indexed\n",
      "staging_hubspot_owners.txt fle_01JM4N6N2ACMZN04WEECJA903T indexed\n",
      "staging_personio_attendances.txt fle_01JM4N6N2AMEZ4H3QX34PSA5JP indexed\n",
      "staging_personio_absences.txt fle_01JM4N6N2AQXNCR1DKJ1ENRRAV indexed\n",
      "staging_sevdesk_invoices.txt fle_01JM4N6N2AV099XS4730HZ8QXW indexed\n",
      "staging_sevdesk_contacts.txt fle_01JM4N6N2AX9FC3WQ8FMMGZJPE indexed\n",
      "staging_sevdesk_receipts.txt fle_01JM4N6N2B7E8KSV3EE61S96GG indexed\n",
      "staging_flatfiles_portals_suntrol.txt fle_01JM4N6N2BD7R4HGHXK7WS55BY indexed\n",
      "staging_hubspot_pipelines.txt fle_01JM4N6N2BECJ1G76JEK08D0DJ indexed\n",
      "staging_flatfiles_target.txt fle_01JM4N6N2BFR7QYJC8SNHA34X4 indexed\n",
      "staging_personio_employees.txt fle_01JM4N6N2BNTPX7WTXXDWK79JW indexed\n",
      "staging_hubspot_feedback_submissions.txt fle_01JM4N6N2BXSA0A81FBBMZN1CY indexed\n",
      "staging_flatfiles_jira_issues.txt fle_01JM4N6N2BY9PRJEZZT1J8EP89 indexed\n",
      "staging_flatfiles_ledgers_booked.txt fle_01JM4N6N2BYYAZVX727S0ZWJT0 indexed\n",
      "staging_flatfiles_azure_costs.txt fle_01JM4N6N2BZNHQEF3M6C9YZF3V indexed\n",
      "staging_sevdesk_payments.txt fle_01JM4N6N2CA7254V51DN54WQ60 indexed\n",
      "staging_flatfiles_personnel_expenses.txt fle_01JM4N6N2CBMGY066NB5TJX3AS indexed\n",
      "staging_operation_datasources_events.txt fle_01JM4N6N2CC8B6EVRC5GBA3SZD indexed\n",
      "staging_hubspot_companies.txt fle_01JM4N6N2CES2H90EN2X5FTVBR indexed\n",
      "staging_hubspot_products.txt fle_01JM4N6N2CH53MRR56DFMQ16KV indexed\n",
      "staging_flatfiles_portals_solytic_1.txt fle_01JM4N6N2CNBWVY91BSZHW8767 indexed\n",
      "staging_hubspot_deals.txt fle_01JM4N6N2CVCQMTTTQETYGS50G indexed\n",
      "staging_hubspot_contacts.txt fle_01JM4N6N2CVM8TFWVFJVV7AV4M indexed\n",
      "staging_operation_sites.txt fle_01JM4N6N2CWZ03RCSX8327DQZ7 indexed\n",
      "staging_hubspot_tickets.txt fle_01JM4N6N2CY1XT5FYTY9QN51PT indexed\n",
      "staging_hubspot_line_items.txt fle_01JM4N6N2CZQ331QMRA7KQTPVN indexed\n",
      "staging_flatfiles_booked_revenue.txt fle_01JM4N6N2DA2CWYR88PMBH9G7Q indexed\n"
     ]
    }
   ],
   "source": [
    "# Get an overview of all existing files in the respective collection\n",
    "needle_manager.files.list(collection_id)\n",
    "\n",
    "for a in needle_manager.files.list(collection_id):\n",
    "    print(a.name, a.id, a.status)\n"
   ]
  },
  {
   "cell_type": "code",
   "execution_count": 13,
   "metadata": {},
   "outputs": [],
   "source": [
    "for a in needle_manager.files.list(collection_id):\n",
    "    if a.name == \"https://www.producthunt.com/products/needle-3\":\n",
    "        print(a.name, a.id, a.status)"
   ]
  },
  {
   "cell_type": "code",
   "execution_count": 14,
   "metadata": {},
   "outputs": [
    {
     "ename": "KeyboardInterrupt",
     "evalue": "",
     "output_type": "error",
     "traceback": [
      "\u001b[1;31m---------------------------------------------------------------------------\u001b[0m",
      "\u001b[1;31mKeyboardInterrupt\u001b[0m                         Traceback (most recent call last)",
      "Cell \u001b[1;32mIn[14], line 3\u001b[0m\n\u001b[0;32m      1\u001b[0m \u001b[38;5;66;03m# Update existing url if necessary\u001b[39;00m\n\u001b[0;32m      2\u001b[0m producthunt_url \u001b[38;5;241m=\u001b[39m \u001b[38;5;124m\"\u001b[39m\u001b[38;5;124mhttps://www.producthunt.com/products/needle-3\u001b[39m\u001b[38;5;124m\"\u001b[39m\n\u001b[1;32m----> 3\u001b[0m \u001b[43mneedle_manager\u001b[49m\u001b[38;5;241;43m.\u001b[39;49m\u001b[43mfiles\u001b[49m\u001b[38;5;241;43m.\u001b[39;49m\u001b[43madd_file_from_url\u001b[49m\u001b[43m(\u001b[49m\u001b[43mproducthunt_url\u001b[49m\u001b[43m \u001b[49m\u001b[43m,\u001b[49m\u001b[43m \u001b[49m\u001b[43moverwrite\u001b[49m\u001b[38;5;241;43m=\u001b[39;49m\u001b[38;5;28;43;01mTrue\u001b[39;49;00m\u001b[43m)\u001b[49m\n",
      "File \u001b[1;32mc:\\Users\\anner\\Documents\\3_Developing\\GIT_repositories\\needle-python\\needle\\v2\\files.py:171\u001b[0m, in \u001b[0;36madd_file_from_url\u001b[1;34m(self, file_url, overwrite)\u001b[0m\n\u001b[0;32m    165\u001b[0m \u001b[38;5;28mself\u001b[39m\u001b[38;5;241m.\u001b[39madd(\n\u001b[0;32m    166\u001b[0m     collection_id\u001b[38;5;241m=\u001b[39m\u001b[38;5;28mself\u001b[39m\u001b[38;5;241m.\u001b[39mcollection_id,\n\u001b[0;32m    167\u001b[0m     files\u001b[38;5;241m=\u001b[39m[FileToAdd(name\u001b[38;5;241m=\u001b[39mfile_url, url\u001b[38;5;241m=\u001b[39mfile_url)]\n\u001b[0;32m    168\u001b[0m )\n\u001b[0;32m    170\u001b[0m \u001b[38;5;28mself\u001b[39m\u001b[38;5;241m.\u001b[39m_wait_for_indexing(file_name \u001b[38;5;241m=\u001b[39m file_url)\n\u001b[1;32m--> 171\u001b[0m \u001b[38;5;28mprint\u001b[39m(\u001b[38;5;124mf\u001b[39m\u001b[38;5;124m\"\u001b[39m\u001b[38;5;124mSuccessfully added \u001b[39m\u001b[38;5;132;01m{\u001b[39;00mfile_url\u001b[38;5;132;01m}\u001b[39;00m\u001b[38;5;124m to collection \u001b[39m\u001b[38;5;132;01m{\u001b[39;00m\u001b[38;5;28mself\u001b[39m\u001b[38;5;241m.\u001b[39mcollection_id\u001b[38;5;132;01m}\u001b[39;00m\u001b[38;5;124m\"\u001b[39m)\n",
      "File \u001b[1;32mc:\\Users\\anner\\Documents\\3_Developing\\GIT_repositories\\needle-python\\needle\\v2\\files.py:190\u001b[0m, in \u001b[0;36m_wait_for_indexing\u001b[1;34m(self, check_interval, file_name)\u001b[0m\n\u001b[0;32m      0\u001b[0m <Error retrieving source code with stack_data see ipython/ipython#13598>\n",
      "\u001b[1;31mKeyboardInterrupt\u001b[0m: "
     ]
    }
   ],
   "source": [
    "# Update existing url if necessary\n",
    "producthunt_url = \"https://www.producthunt.com/products/needle-3\"\n",
    "needle_manager.files.add_file_from_url(producthunt_url , overwrite=True)"
   ]
  },
  {
   "cell_type": "code",
   "execution_count": null,
   "metadata": {},
   "outputs": [],
   "source": [
    "# Get the relevant data from the rag\n",
    "rag_prompt = \"\"\"Retrieve people who commented or reviewd the product.Exclude unrelated content.\"\"\"\n",
    "rag_results = needle_manager.collection.search_collection(rag_prompt)\n",
    "print(rag_results)"
   ]
  }
 ],
 "metadata": {
  "kernelspec": {
   "display_name": ".venv",
   "language": "python",
   "name": "python3"
  },
  "language_info": {
   "codemirror_mode": {
    "name": "ipython",
    "version": 3
   },
   "file_extension": ".py",
   "mimetype": "text/x-python",
   "name": "python",
   "nbconvert_exporter": "python",
   "pygments_lexer": "ipython3",
   "version": "3.12.6"
  }
 },
 "nbformat": 4,
 "nbformat_minor": 2
}
