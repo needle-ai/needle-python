{
 "cells": [
  {
   "cell_type": "code",
   "execution_count": 1,
   "metadata": {},
   "outputs": [],
   "source": [
    "import os"
   ]
  },
  {
   "cell_type": "code",
   "execution_count": 2,
   "metadata": {},
   "outputs": [],
   "source": [
    "os.environ[\"NEEDLE_API_KEY\"] = \"\""
   ]
  },
  {
   "cell_type": "code",
   "execution_count": null,
   "metadata": {},
   "outputs": [],
   "source": [
    "from needle.v1 import NeedleClient\n",
    "\n",
    "ndl = NeedleClient(\n",
    "    url=\"http://localhost:3000\",\n",
    ")\n",
    "collection_id = \"clt_01JBS48E0M6YF2AN9ZAXVK8S2P\"\n",
    "\n",
    "ndl.files.get_download_url(\"fle_01JBS5EXXRGSQMCY7B6XMRXETE\")"
   ]
  }
 ],
 "metadata": {
  "kernelspec": {
   "display_name": "needle-tutorial-Pi3Ihry5",
   "language": "python",
   "name": "python3"
  },
  "language_info": {
   "codemirror_mode": {
    "name": "ipython",
    "version": 3
   },
   "file_extension": ".py",
   "mimetype": "text/x-python",
   "name": "python",
   "nbconvert_exporter": "python",
   "pygments_lexer": "ipython3",
   "version": "3.10.4"
  }
 },
 "nbformat": 4,
 "nbformat_minor": 2
}
