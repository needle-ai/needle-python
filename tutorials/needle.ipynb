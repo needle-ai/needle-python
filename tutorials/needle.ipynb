{
 "cells": [
  {
   "cell_type": "code",
   "execution_count": 1,
   "metadata": {},
   "outputs": [],
   "source": [
    "import os\n",
    "from openai import OpenAI"
   ]
  },
  {
   "cell_type": "code",
   "execution_count": 2,
   "metadata": {},
   "outputs": [],
   "source": [
    "os.environ[\"NEEDLE_API_KEY\"] = \"<your-needle-api-key>\""
   ]
  },
  {
   "cell_type": "code",
   "execution_count": 3,
   "metadata": {},
   "outputs": [],
   "source": [
    "os.environ[\"OPENAI_API_KEY\"] = \"<your-openai-api-key>\""
   ]
  },
  {
   "cell_type": "code",
   "execution_count": null,
   "metadata": {},
   "outputs": [],
   "source": [
    "from needle.v1 import NeedleClient\n",
    "from needle.v1.models import FileToAdd\n",
    "\n",
    "\n",
    "ndl = NeedleClient()\n",
    "collection_id = \"clt_01J4NW2THDSQC7GDD19CMCTAAK\"\n",
    "\n",
    "prompt = \"What techniques moved into adopt in this volume of technology radar?\"\n",
    "results = ndl.collections.search(collection_id, text=prompt)\n",
    "\n",
    "for r in results:\n",
    "    print(r.content)"
   ]
  },
  {
   "cell_type": "code",
   "execution_count": 8,
   "metadata": {},
   "outputs": [
    {
     "name": "stdout",
     "output_type": "stream",
     "text": [
      "Retrieval-Augmented Generation (RAG) technique moved into the \"Adopt\" category in this volume of the Technology Radar.\n"
     ]
    }
   ],
   "source": [
    "system_messages = [{\"role\": \"system\", \"content\": r.content} for r in results] # results from Needle\n",
    "user_message = {\n",
    "    \"role\": \"system\",\n",
    "    \"content\": f\"\"\"\n",
    "        Only answer the question based on the provided results data. \n",
    "        If there is no data in the provided data for the question, do not try to generate an answer. \n",
    "        This is the question: {prompt}\n",
    "\"\"\",\n",
    "}\n",
    "\n",
    "openai_client = OpenAI()\n",
    "answer = openai_client.chat.completions.create(\n",
    "    model=\"gpt-3.5-turbo\",\n",
    "    messages=[\n",
    "        *system_messages,\n",
    "        user_message,\n",
    "    ],\n",
    ")\n",
    "\n",
    "print(answer.choices[0].message.content)\n"
   ]
  }
 ],
 "metadata": {
  "kernelspec": {
   "display_name": "needle-tutorial-Pi3Ihry5",
   "language": "python",
   "name": "python3"
  },
  "language_info": {
   "codemirror_mode": {
    "name": "ipython",
    "version": 3
   },
   "file_extension": ".py",
   "mimetype": "text/x-python",
   "name": "python",
   "nbconvert_exporter": "python",
   "pygments_lexer": "ipython3",
   "version": "3.10.4"
  }
 },
 "nbformat": 4,
 "nbformat_minor": 2
}
